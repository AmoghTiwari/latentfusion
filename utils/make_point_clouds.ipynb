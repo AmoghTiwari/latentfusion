{
 "cells": [
  {
   "cell_type": "code",
   "execution_count": 1,
   "id": "50ddbed4",
   "metadata": {},
   "outputs": [],
   "source": [
    "import json\n",
    "import numpy as np\n",
    "import open3d as o3d\n",
    "import os"
   ]
  },
  {
   "cell_type": "code",
   "execution_count": 2,
   "id": "65dd9801",
   "metadata": {},
   "outputs": [],
   "source": [
    "def get_points_from_json(json_file_path):\n",
    "    with open(json_file_path, \"r\") as f:\n",
    "        data = json.load(f)\n",
    "    data_keys = list(data.keys())\n",
    "    points_list = []\n",
    "\n",
    "    for i in range(len(data_keys)):\n",
    "        num_points = data[data_keys[i]]['ARPointCloud']['count']\n",
    "        try:\n",
    "            for j in range(num_points):\n",
    "                points_list.append(data[data_keys[i]]['ARPointCloud']['points'][j])\n",
    "        except:\n",
    "            print(f\"Found no points in {i}th frame of {json_file_path}\")\n",
    "        else:\n",
    "            for j in range(num_points):\n",
    "                points_list.append(data[data_keys[i]]['ARPointCloud']['points'][j])\n",
    "\n",
    "    np_points_list = np.array(points_list)\n",
    "    return np_points_list\n",
    "\n",
    "def save_point_cloud(points_array, output_dir, object_name):\n",
    "    pcd = o3d.geometry.PointCloud()\n",
    "    pcd.points = o3d.utility.Vector3dVector(points_array)\n",
    "    o3d.io.write_point_cloud(os.path.join(output_dir, f'{object_name}.ply'), pcd)\n",
    "    \n",
    "def view_point_cloud(input_dir, object_name):\n",
    "    pcd_load = o3d.io.read_point_cloud(os.path.join(input_dir, f'{object_name}.ply'))\n",
    "    o3d.visualization.draw_geometries([pcd_load])\n",
    "\n",
    "def from_json_to_point_cloud(data_dir, object_name, output_dir):\n",
    "    print(f\"Processing Object: {object_name}\")\n",
    "    object_dir = os.path.join(data_dir, object_name)\n",
    "    json_file_name = [file_name for file_name in os.listdir(object_dir) if file_name.split(\".\")[-1] == 'json' ][0]\n",
    "    json_file_path = os.path.join(object_dir, json_file_name)\n",
    "\n",
    "    np_points_list = get_points_from_json(json_file_path)\n",
    "    save_point_cloud(np_points_list, output_dir, object_name)\n",
    "    print(f\"Object Done\")"
   ]
  },
  {
   "cell_type": "markdown",
   "id": "1c23ed4a",
   "metadata": {},
   "source": [
    "# Global Variables"
   ]
  },
  {
   "cell_type": "code",
   "execution_count": 3,
   "id": "7d83da32",
   "metadata": {},
   "outputs": [],
   "source": [
    "data_dir = \"/home/amogh/spatial_guide_intern/data/AR_Recorder\"\n",
    "object_name = \"elephant_terracota\"\n",
    "point_clouds_dir = \"/home/amogh/spatial_guide_intern/data/point_clouds\""
   ]
  },
  {
   "cell_type": "markdown",
   "id": "a536c72b",
   "metadata": {},
   "source": [
    "# For Single Object"
   ]
  },
  {
   "cell_type": "code",
   "execution_count": 4,
   "id": "e6c575d8",
   "metadata": {},
   "outputs": [
    {
     "name": "stdout",
     "output_type": "stream",
     "text": [
      "Processing Object: elephant_terracota\n",
      "Object Done\n"
     ]
    }
   ],
   "source": [
    "from_json_to_point_cloud(data_dir, object_name, point_clouds_dir)"
   ]
  },
  {
   "cell_type": "markdown",
   "id": "0b11af16",
   "metadata": {},
   "source": [
    "# For all Objects"
   ]
  },
  {
   "cell_type": "code",
   "execution_count": 6,
   "id": "49d3c3bc",
   "metadata": {},
   "outputs": [
    {
     "name": "stdout",
     "output_type": "stream",
     "text": [
      "Processing Object: empty_intersting\n",
      "Object Done\n",
      "Processing Object: remote\n",
      "Object Done\n",
      "Processing Object: dog_terracota\n",
      "Object Done\n",
      "Processing Object: laptop_open\n",
      "Object Done\n",
      "Processing Object: laptop_open_02\n",
      "Object Done\n",
      "Processing Object: tree_teracota\n",
      "Object Done\n",
      "Processing Object: keyboard\n",
      "Found no points in 22th frame of /home/amogh/spatial_guide_intern/data/AR_Recorder/keyboard/14-18-metadata.json\n",
      "Object Done\n",
      "Processing Object: train_terracota\n",
      "Object Done\n",
      "Processing Object: camera_stand\n",
      "Object Done\n",
      "Processing Object: rohit\n",
      "Object Done\n",
      "Processing Object: fish_terracota\n",
      "Object Done\n",
      "Processing Object: bull_terracota\n",
      "Object Done\n",
      "Processing Object: elephant_terracota\n",
      "Object Done\n",
      "Processing Object: laptop_closed\n",
      "Object Done\n"
     ]
    }
   ],
   "source": [
    "object_names = os.listdir(data_dir)\n",
    "for object_name in object_names:\n",
    "    from_json_to_point_cloud(data_dir, object_name, point_clouds_dir)    "
   ]
  },
  {
   "cell_type": "markdown",
   "id": "a81e5933",
   "metadata": {},
   "source": [
    "# View Point Clouds"
   ]
  },
  {
   "cell_type": "code",
   "execution_count": null,
   "id": "64b6316b",
   "metadata": {},
   "outputs": [],
   "source": [
    "\n",
    "object_name = \n",
    "view_point_cloud(point_clouds_dir, object_name)"
   ]
  }
 ],
 "metadata": {
  "kernelspec": {
   "display_name": "Python [conda env:experimental]",
   "language": "python",
   "name": "conda-env-experimental-py"
  },
  "language_info": {
   "codemirror_mode": {
    "name": "ipython",
    "version": 3
   },
   "file_extension": ".py",
   "mimetype": "text/x-python",
   "name": "python",
   "nbconvert_exporter": "python",
   "pygments_lexer": "ipython3",
   "version": "3.8.12"
  }
 },
 "nbformat": 4,
 "nbformat_minor": 5
}
