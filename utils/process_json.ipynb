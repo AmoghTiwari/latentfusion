{
 "cells": [
  {
   "cell_type": "code",
   "execution_count": 4,
   "id": "40557d9f",
   "metadata": {},
   "outputs": [],
   "source": [
    "import json\n",
    "import os\n",
    "import numpy as np"
   ]
  },
  {
   "cell_type": "code",
   "execution_count": 5,
   "id": "ae3b4534",
   "metadata": {},
   "outputs": [],
   "source": [
    "def read_json(file_path):\n",
    "    with open(file_path, \"r\") as f:\n",
    "        data = json.load(f)\n",
    "    return data"
   ]
  },
  {
   "cell_type": "markdown",
   "id": "7f67e905",
   "metadata": {},
   "source": [
    "# Global Variables"
   ]
  },
  {
   "cell_type": "code",
   "execution_count": 15,
   "id": "a38e20c4",
   "metadata": {},
   "outputs": [],
   "source": [
    "data_dir = \"/home/amogh/spatial_guide_intern/data/AR_Recorder\"\n",
    "object_name = \"elephant_terracota\"\n",
    "object_id = 102\n",
    "output_dir = f\"/home/amogh/research/datasets/lm_format/train/\""
   ]
  },
  {
   "cell_type": "code",
   "execution_count": 7,
   "id": "de0f9075",
   "metadata": {},
   "outputs": [],
   "source": [
    "object_dir = os.path.join(data_dir, object_name)\n",
    "json_file_name = [file_name for file_name in os.listdir(object_dir) if file_name.split(\".\")[-1] == 'json' ][0]\n",
    "json_file_path = os.path.join(object_dir, json_file_name)"
   ]
  },
  {
   "cell_type": "code",
   "execution_count": 9,
   "id": "8f0b54be",
   "metadata": {},
   "outputs": [],
   "source": [
    "data = read_json(json_file_path)"
   ]
  },
  {
   "cell_type": "code",
   "execution_count": 12,
   "id": "2eb568e9",
   "metadata": {},
   "outputs": [],
   "source": [
    "data_keys = list(data.keys())\n",
    "\n",
    "cam_intrinsics = {}\n",
    "dict1 = {}\n",
    "for i in range(len(data_keys)):\n",
    "    dict1[\"cam_K\"] = list(np.array(data[data_keys[i]]['cameraIntrinsics']).reshape(-1,))\n",
    "    dict1[\"depth_scale\"] = 0.1\n",
    "    cam_intrinsics[str(i)] = dict1\n",
    "\n",
    "cam_intrinsics_path = output_dir + f\"{object_id:06d}/scene_camera.json\"\n",
    "# with open(cam_intrinsics_path, \"w\") as f:\n",
    "#     json.dump(cam_intrinsics, f, indent=4)"
   ]
  },
  {
   "cell_type": "markdown",
   "id": "84db5cd5",
   "metadata": {},
   "source": [
    "# Extrinsics"
   ]
  },
  {
   "cell_type": "code",
   "execution_count": 21,
   "id": "b1cd0834",
   "metadata": {},
   "outputs": [],
   "source": [
    "extrinsics_dict = {}\n",
    "for i in range(len(data_keys)):\n",
    "\n",
    "    extrinsics = np.array(data[data_keys[i]]['cameraTransform'])\n",
    "    scale_factor = extrinsics[-1,-1]\n",
    "    R = extrinsics[:3,:3] / scale_factor\n",
    "    t = extrinsics[:3,-1] / scale_factor\n",
    "\n",
    "    frame_list = []\n",
    "    frame_dict = {}\n",
    "    frame_dict['cam_R_m2c'] = list(R.reshape(-1,))\n",
    "    frame_dict['cam_t_m2c'] = list(t)\n",
    "    frame_dict['obj_id'] = object_id\n",
    "    frame_list.append(frame_dict)\n",
    "    extrinsics_dict[str(i)] = frame_list\n",
    "\n",
    "extrinsics_json_path = output_dir + f\"{object_id:06d}/scene_gt.json\"\n",
    "\n",
    "# with open(extrinsics_json_path, \"w\") as f:\n",
    "#     json.dump(extrinsics_dict, f, indent=4)"
   ]
  }
 ],
 "metadata": {
  "kernelspec": {
   "display_name": "Python [conda env:experimental]",
   "language": "python",
   "name": "conda-env-experimental-py"
  },
  "language_info": {
   "codemirror_mode": {
    "name": "ipython",
    "version": 3
   },
   "file_extension": ".py",
   "mimetype": "text/x-python",
   "name": "python",
   "nbconvert_exporter": "python",
   "pygments_lexer": "ipython3",
   "version": "3.8.12"
  }
 },
 "nbformat": 4,
 "nbformat_minor": 5
}
