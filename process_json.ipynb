{
 "cells": [
  {
   "cell_type": "code",
   "execution_count": 1,
   "id": "30093d28",
   "metadata": {},
   "outputs": [],
   "source": [
    "import json\n",
    "import numpy as np"
   ]
  },
  {
   "cell_type": "code",
   "execution_count": 2,
   "id": "03310598",
   "metadata": {},
   "outputs": [],
   "source": [
    "def read_json(file_path):\n",
    "    with open(file_path, \"r\") as f:\n",
    "        data = json.load(f)\n",
    "    return data"
   ]
  },
  {
   "cell_type": "markdown",
   "id": "1d20dd95",
   "metadata": {},
   "source": [
    "# Intrinsics"
   ]
  },
  {
   "cell_type": "code",
   "execution_count": 3,
   "id": "e42da046",
   "metadata": {},
   "outputs": [],
   "source": [
    "file1 = \"/home/amogh/spatial_guide_intern/data/with_masks/laptop_closed/13-22-metadata.json\"\n",
    "file2 = \"/home/amogh/research/datasets/lm/camera.json\"\n",
    "\n",
    "data1 = read_json(file1)\n",
    "data2 = read_json(file2)"
   ]
  },
  {
   "cell_type": "code",
   "execution_count": 4,
   "id": "ab863b9b",
   "metadata": {},
   "outputs": [
    {
     "data": {
      "text/plain": [
       "dict_keys(['335094.385125.jpg', '335088.383020.jpg', '335083.381273.jpg', '335085.381971.jpg', '335090.883897.jpg', '335092.884598.jpg', '335095.885640.jpg', '335082.380921.jpg', '335085.882146.jpg', '335088.883195.jpg', '335081.380571.jpg', '335096.885988.jpg', '335093.884949.jpg', '335086.382329.jpg', '335093.384767.jpg', '335080.880396.jpg', '335098.886690.jpg', '335094.885290.jpg', '335092.384426.jpg', '335084.381629.jpg', '335089.883544.jpg', '335087.382669.jpg', '335086.882504.jpg', '335084.881797.jpg', '335098.386518.jpg', '335082.881097.jpg', '335081.880754.jpg', '335096.385814.jpg', '335087.882845.jpg', '335089.383375.jpg', '335097.386163.jpg', '335091.884242.jpg', '335090.383725.jpg', '335097.886338.jpg', '335095.385473.jpg', '335091.384069.jpg', '335083.881447.jpg'])"
      ]
     },
     "execution_count": 4,
     "metadata": {},
     "output_type": "execute_result"
    }
   ],
   "source": [
    "data1.keys()"
   ]
  },
  {
   "cell_type": "code",
   "execution_count": 5,
   "id": "6af85008",
   "metadata": {},
   "outputs": [
    {
     "data": {
      "text/plain": [
       "dict_keys(['cx', 'cy', 'depth_scale', 'fx', 'fy', 'height', 'width'])"
      ]
     },
     "execution_count": 5,
     "metadata": {},
     "output_type": "execute_result"
    }
   ],
   "source": [
    "data2.keys()"
   ]
  },
  {
   "cell_type": "code",
   "execution_count": 6,
   "id": "da6e96d4",
   "metadata": {},
   "outputs": [],
   "source": [
    "data1_keys = list(data1.keys())"
   ]
  },
  {
   "cell_type": "code",
   "execution_count": 7,
   "id": "2ba215fd",
   "metadata": {},
   "outputs": [],
   "source": [
    "cam_intrinsics = {}\n",
    "dict1 = {}\n",
    "for i in range(len(data1_keys)):\n",
    "    dict1[\"cam_K\"] = list(np.array(data1[data1_keys[i]]['cameraIntrinsics']).reshape(-1,))\n",
    "    dict1[\"depth_scale\"] = 0.1\n",
    "    cam_intrinsics[str(i)] = dict1"
   ]
  },
  {
   "cell_type": "code",
   "execution_count": 8,
   "id": "6fd405ea",
   "metadata": {},
   "outputs": [],
   "source": [
    "cam_intrinsics_path = \"/home/amogh/spatial_guide_intern/data/lm_format/train_pbr/000100/scene_camera.json\"\n",
    "\n",
    "# with open(cam_intrinsics_path, \"w\") as f:\n",
    "#     json.dump(cam_intrinsics, f)"
   ]
  },
  {
   "cell_type": "markdown",
   "id": "7b76c737",
   "metadata": {},
   "source": [
    "# Extrinsics"
   ]
  },
  {
   "cell_type": "code",
   "execution_count": 10,
   "id": "8511c043",
   "metadata": {},
   "outputs": [],
   "source": [
    "file1 = \"/home/amogh/spatial_guide_intern/data/with_masks/laptop_closed/13-22-metadata.json\"\n",
    "file2 = \"/home/amogh/research/datasets/linemod_full/lm/train_pbr/000004/scene_gt.json\""
   ]
  },
  {
   "cell_type": "code",
   "execution_count": 11,
   "id": "01023d68",
   "metadata": {},
   "outputs": [],
   "source": [
    "data1 = read_json(file1)\n",
    "data2 = read_json(file2)"
   ]
  },
  {
   "cell_type": "code",
   "execution_count": 64,
   "id": "0116b5de",
   "metadata": {},
   "outputs": [],
   "source": [
    "# data1_keys = list(data1.keys())\n",
    "# data2_keys = list(data2.keys())\n",
    "# print(data1_keys)\n",
    "# print(data2_keys)"
   ]
  },
  {
   "cell_type": "code",
   "execution_count": 19,
   "id": "bda91d68",
   "metadata": {},
   "outputs": [
    {
     "data": {
      "text/plain": [
       "dict_keys(['cam_R_m2c', 'cam_t_m2c', 'obj_id'])"
      ]
     },
     "execution_count": 19,
     "metadata": {},
     "output_type": "execute_result"
    }
   ],
   "source": [
    "data2['0'][0].keys()"
   ]
  },
  {
   "cell_type": "code",
   "execution_count": 20,
   "id": "253dae16",
   "metadata": {},
   "outputs": [
    {
     "data": {
      "text/plain": [
       "[-0.7182501554489136,\n",
       " 0.6260109543800354,\n",
       " -0.3036886751651764,\n",
       " 0.6777347922325134,\n",
       " 0.5306867957115173,\n",
       " -0.5089666247367859,\n",
       " -0.15745513141155243,\n",
       " -0.5713858008384705,\n",
       " -0.805435299873352]"
      ]
     },
     "execution_count": 20,
     "metadata": {},
     "output_type": "execute_result"
    }
   ],
   "source": [
    "data2['0'][0]['cam_R_m2c']"
   ]
  },
  {
   "cell_type": "code",
   "execution_count": 21,
   "id": "83376b97",
   "metadata": {},
   "outputs": [
    {
     "data": {
      "text/plain": [
       "[174.7747344970703, -67.43106079101562, 1010.6671142578125]"
      ]
     },
     "execution_count": 21,
     "metadata": {},
     "output_type": "execute_result"
    }
   ],
   "source": [
    "data2['0'][0]['cam_t_m2c']"
   ]
  },
  {
   "cell_type": "code",
   "execution_count": 22,
   "id": "518b7f86",
   "metadata": {},
   "outputs": [
    {
     "data": {
      "text/plain": [
       "3"
      ]
     },
     "execution_count": 22,
     "metadata": {},
     "output_type": "execute_result"
    }
   ],
   "source": [
    "data2['0'][0]['obj_id']"
   ]
  },
  {
   "cell_type": "code",
   "execution_count": 48,
   "id": "a4a60d83",
   "metadata": {},
   "outputs": [
    {
     "data": {
      "text/plain": [
       "array([-0.3305167 , -0.07094041, -0.2173262 ])"
      ]
     },
     "execution_count": 48,
     "metadata": {},
     "output_type": "execute_result"
    }
   ],
   "source": [
    "t\n"
   ]
  },
  {
   "cell_type": "code",
   "execution_count": 70,
   "id": "888c772b",
   "metadata": {},
   "outputs": [],
   "source": [
    "extrinsics_dict = {}\n",
    "for i in range(len(data1_keys)):\n",
    "\n",
    "    extrinsics = np.array(data1[data1_keys[i]]['cameraTransform'])\n",
    "    scale_factor = extrinsics[-1,-1]\n",
    "    R = extrinsics[:3,:3] / scale_factor\n",
    "    t = extrinsics[:3,-1] / scale_factor\n",
    "\n",
    "    frame_list = []\n",
    "    frame_dict = {}\n",
    "    frame_dict['cam_R_m2c'] = list(R.reshape(-1,))\n",
    "    frame_dict['cam_t_m2c'] = list(t)\n",
    "    frame_list.append(frame_dict)\n",
    "    extrinsics_dict[str(i)] = frame_list"
   ]
  },
  {
   "cell_type": "code",
   "execution_count": 71,
   "id": "6316b234",
   "metadata": {},
   "outputs": [],
   "source": [
    "extrinsics_json_path = \"/home/amogh/spatial_guide_intern/data/lm_format/train_pbr/000100/scene_gt.json\"\n",
    "\n",
    "with open(extrinsics_json_path, \"w\") as f:\n",
    "    json.dump(extrinsics_dict, f)"
   ]
  },
  {
   "cell_type": "code",
   "execution_count": 73,
   "id": "84598a08",
   "metadata": {},
   "outputs": [],
   "source": [
    "with open(extrinsics_json_path, \"r\") as f:\n",
    "    my_data = json.load(f)"
   ]
  },
  {
   "cell_type": "code",
   "execution_count": 75,
   "id": "204b5576",
   "metadata": {},
   "outputs": [
    {
     "data": {
      "text/plain": [
       "[{'cam_R_m2c': [-0.543434,\n",
       "   0.7259884,\n",
       "   -0.4214501,\n",
       "   -0.6031926,\n",
       "   0.01145563,\n",
       "   0.7975133,\n",
       "   0.5838134,\n",
       "   0.6876115,\n",
       "   0.4316855],\n",
       "  'cam_t_m2c': [-0.3305167, -0.07094041, -0.2173262]}]"
      ]
     },
     "execution_count": 75,
     "metadata": {},
     "output_type": "execute_result"
    }
   ],
   "source": [
    "my_data['0']"
   ]
  },
  {
   "cell_type": "code",
   "execution_count": 83,
   "id": "70b6815f",
   "metadata": {},
   "outputs": [
    {
     "name": "stdout",
     "output_type": "stream",
     "text": [
      "0\n"
     ]
    }
   ],
   "source": [
    "for obj_ind, cam_d in enumerate(my_data['0']):\n",
    "    print(obj_ind)\n",
    "#     print(cam_d)"
   ]
  },
  {
   "cell_type": "code",
   "execution_count": 87,
   "id": "68cc5aab",
   "metadata": {},
   "outputs": [
    {
     "data": {
      "text/plain": [
       "{'timeStamp': 335094.385124583,\n",
       " 'cameraTransform': [[-0.543434, 0.7259884, -0.4214501, -0.3305167],\n",
       "  [-0.6031926, 0.01145563, 0.7975133, -0.07094041],\n",
       "  [0.5838134, 0.6876115, 0.4316855, -0.2173262],\n",
       "  [0, 0, 0, 1]],\n",
       " 'ARPointCloud': {'count': 23,\n",
       "  'points': [[0.04351114, -0.9550782, 0.04061998],\n",
       "   [0.5879195, -0.7592509, -0.3377869],\n",
       "   [0.5909127, -0.7910417, -0.2931145],\n",
       "   [-0.09668031, -0.5584686, -0.4563407],\n",
       "   [0.05669929, -0.955945, -0.1033896],\n",
       "   [0.07025397, -0.9622546, 0.07841311],\n",
       "   [0.03297542, -0.4325245, -0.7406644],\n",
       "   [-0.04633335, -0.5556594, -0.2963029],\n",
       "   [0.3855214, -0.5851535, -0.4785034],\n",
       "   [-0.1644942, -0.536579, -0.5765557],\n",
       "   [-0.2525781, -0.5664767, -0.4659978],\n",
       "   [-0.2651461, -0.5584938, -0.459415],\n",
       "   [0.06716216, -1.017236, 0.03056563],\n",
       "   [0.03493768, -1.003418, 0.03227394],\n",
       "   [0.0772149, -0.8869355, -0.1278779],\n",
       "   [-0.1012674, -0.5649287, -0.4373253],\n",
       "   [0.04178523, -0.9280373, 0.03822511],\n",
       "   [0.4846625, -0.8617582, -0.02537142],\n",
       "   [0.4667806, -0.8745155, -0.01420208],\n",
       "   [0.1898394, -0.7434862, 0.01543085],\n",
       "   [0.4060154, -0.5852606, -0.484432],\n",
       "   [-0.04167344, -0.5645111, -0.3078572],\n",
       "   [-0.2441082, -0.3036911, -0.1465766]]},\n",
       " 'cameraIntrinsics': [[1447.501, 0, 967.329],\n",
       "  [0, 1447.501, 723.8528],\n",
       "  [0, 0, 1]],\n",
       " 'imageName': '335094.385125.jpg',\n",
       " 'cameraPos': {'z': -0.2173262, 'y': -0.07094041, 'x': -0.3305167},\n",
       " 'cameraEulerAngle': {'z': -1.551807, 'y': -0.7734014, 'x': -0.9231621},\n",
       " 'imageResolution': {'width': 1920, 'height': 1440},\n",
       " 'lightEstimate': 1028.848052024841}"
      ]
     },
     "execution_count": 87,
     "metadata": {},
     "output_type": "execute_result"
    }
   ],
   "source": [
    "data1['335094.385125.jpg']"
   ]
  },
  {
   "cell_type": "code",
   "execution_count": 90,
   "id": "46990e89",
   "metadata": {},
   "outputs": [],
   "source": [
    "import os"
   ]
  },
  {
   "cell_type": "code",
   "execution_count": 100,
   "id": "2b7c0431",
   "metadata": {},
   "outputs": [],
   "source": [
    "depth_dir = \"/home/amogh/spatial_guide_intern/data/lm_format/train_pbr/000100/rgb\""
   ]
  },
  {
   "cell_type": "code",
   "execution_count": 103,
   "id": "5370704d",
   "metadata": {},
   "outputs": [],
   "source": [
    "depth_paths = sorted(os.listdir(depth_dir))\n",
    "# for name in depth_paths:\n",
    "#     depth_paths[i] = os.path.join(depth_dir, name)\n",
    "self.depth_paths = [os.path.join(self.depth_dir, name) for name in self.depth_paths]"
   ]
  },
  {
   "cell_type": "code",
   "execution_count": 104,
   "id": "5136b0e8",
   "metadata": {},
   "outputs": [
    {
     "data": {
      "text/plain": [
       "['/home/amogh/spatial_guide_intern/data/lm_format/train_pbr/000100/rgb/335080.880396.jpg',\n",
       " '/home/amogh/spatial_guide_intern/data/lm_format/train_pbr/000100/rgb/335081.380571.jpg',\n",
       " '/home/amogh/spatial_guide_intern/data/lm_format/train_pbr/000100/rgb/335081.880754.jpg',\n",
       " '/home/amogh/spatial_guide_intern/data/lm_format/train_pbr/000100/rgb/335082.380921.jpg',\n",
       " '/home/amogh/spatial_guide_intern/data/lm_format/train_pbr/000100/rgb/335082.881097.jpg',\n",
       " '/home/amogh/spatial_guide_intern/data/lm_format/train_pbr/000100/rgb/335083.381273.jpg',\n",
       " '/home/amogh/spatial_guide_intern/data/lm_format/train_pbr/000100/rgb/335083.881447.jpg',\n",
       " '/home/amogh/spatial_guide_intern/data/lm_format/train_pbr/000100/rgb/335084.381629.jpg',\n",
       " '/home/amogh/spatial_guide_intern/data/lm_format/train_pbr/000100/rgb/335084.881797.jpg',\n",
       " '/home/amogh/spatial_guide_intern/data/lm_format/train_pbr/000100/rgb/335085.381971.jpg',\n",
       " '/home/amogh/spatial_guide_intern/data/lm_format/train_pbr/000100/rgb/335085.882146.jpg',\n",
       " '/home/amogh/spatial_guide_intern/data/lm_format/train_pbr/000100/rgb/335086.382329.jpg',\n",
       " '/home/amogh/spatial_guide_intern/data/lm_format/train_pbr/000100/rgb/335089.383375.jpg',\n",
       " '/home/amogh/spatial_guide_intern/data/lm_format/train_pbr/000100/rgb/335090.383725.jpg',\n",
       " '/home/amogh/spatial_guide_intern/data/lm_format/train_pbr/000100/rgb/335090.883897.jpg',\n",
       " '/home/amogh/spatial_guide_intern/data/lm_format/train_pbr/000100/rgb/335091.384069.jpg',\n",
       " '/home/amogh/spatial_guide_intern/data/lm_format/train_pbr/000100/rgb/335091.884242.jpg',\n",
       " '/home/amogh/spatial_guide_intern/data/lm_format/train_pbr/000100/rgb/335092.384426.jpg',\n",
       " '/home/amogh/spatial_guide_intern/data/lm_format/train_pbr/000100/rgb/335092.884598.jpg',\n",
       " '/home/amogh/spatial_guide_intern/data/lm_format/train_pbr/000100/rgb/335093.384767.jpg',\n",
       " '/home/amogh/spatial_guide_intern/data/lm_format/train_pbr/000100/rgb/335094.385125.jpg',\n",
       " '/home/amogh/spatial_guide_intern/data/lm_format/train_pbr/000100/rgb/335094.885290.jpg',\n",
       " '/home/amogh/spatial_guide_intern/data/lm_format/train_pbr/000100/rgb/335097.886338.jpg',\n",
       " '/home/amogh/spatial_guide_intern/data/lm_format/train_pbr/000100/rgb/335098.386518.jpg']"
      ]
     },
     "execution_count": 104,
     "metadata": {},
     "output_type": "execute_result"
    }
   ],
   "source": [
    "depth_paths"
   ]
  },
  {
   "cell_type": "code",
   "execution_count": null,
   "id": "b2d00b32",
   "metadata": {},
   "outputs": [],
   "source": []
  }
 ],
 "metadata": {
  "kernelspec": {
   "display_name": "Python [conda env:experimental]",
   "language": "python",
   "name": "conda-env-experimental-py"
  },
  "language_info": {
   "codemirror_mode": {
    "name": "ipython",
    "version": 3
   },
   "file_extension": ".py",
   "mimetype": "text/x-python",
   "name": "python",
   "nbconvert_exporter": "python",
   "pygments_lexer": "ipython3",
   "version": "3.8.12"
  }
 },
 "nbformat": 4,
 "nbformat_minor": 5
}
